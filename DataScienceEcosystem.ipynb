{
 "cells": [
  {
   "cell_type": "markdown",
   "id": "755494dd-65ca-4f74-ab66-547b3aa3467e",
   "metadata": {},
   "source": [
    "# Data Science Tools and Ecosystem"
   ]
  },
  {
   "cell_type": "markdown",
   "id": "ce40bae8-443e-4019-b30f-33c302d774be",
   "metadata": {},
   "source": [
    "In this notebook, Data Science Tools and Ecosystem are summarized."
   ]
  },
  {
   "cell_type": "markdown",
   "id": "52379e4d-afbc-4240-96d9-6e9edb792dd1",
   "metadata": {},
   "source": [
    "Objectives:\n",
    "- Languages that Data Scientists use\n",
    "- Libraries that Data Scientists use\n",
    "- Tools that Data Scientists use"
   ]
  },
  {
   "cell_type": "markdown",
   "id": "ae6af24a-192a-43f6-b700-f92f03bc160d",
   "metadata": {},
   "source": [
    "Some of the popular languages that Data Scientists use are:\n",
    "1. Python\n",
    "2. R\n",
    "3. SQL"
   ]
  },
  {
   "cell_type": "markdown",
   "id": "32662aaf-7193-45b2-a734-56597ca4d7ff",
   "metadata": {},
   "source": [
    "Some of the commonly used libraries used by Data Scientists include:\n",
    "1. pandas\n",
    "2. numpy\n",
    "3. matplotlib"
   ]
  },
  {
   "cell_type": "markdown",
   "id": "cf8ace62-9bbf-40eb-b0a6-6f80143236f4",
   "metadata": {},
   "source": [
    "| Data Science Tools |\n",
    "|--------------------|\n",
    "| Jupyter Notebook |\n",
    "| RStudio |\n",
    "| VSCode |"
   ]
  },
  {
   "cell_type": "markdown",
   "id": "37a0541c-7afb-4bfe-bf50-66ac9a280438",
   "metadata": {},
   "source": [
    "### Below are a few examples of evaluating arithmetic expressions in Python"
   ]
  },
  {
   "cell_type": "code",
   "execution_count": 9,
   "id": "34353655-d14d-4099-a8c9-6fc2b46ac6fe",
   "metadata": {},
   "outputs": [
    {
     "data": {
      "text/plain": [
       "17"
      ]
     },
     "execution_count": 9,
     "metadata": {},
     "output_type": "execute_result"
    }
   ],
   "source": [
    "#This a simple arithmetic expression to mutiply then add integers\n",
    "(3*4)+5"
   ]
  },
  {
   "cell_type": "code",
   "execution_count": 11,
   "id": "4e1ebcc9-6758-4502-8cae-094d5fdc43b7",
   "metadata": {},
   "outputs": [
    {
     "data": {
      "text/plain": [
       "3.3333333333333335"
      ]
     },
     "execution_count": 11,
     "metadata": {},
     "output_type": "execute_result"
    }
   ],
   "source": [
    "#This will convert 200 minutes to hours by diving by 60\n",
    "200/60"
   ]
  },
  {
   "cell_type": "markdown",
   "id": "b2687862-b944-4ce6-b921-dac71c261d3f",
   "metadata": {},
   "source": [
    "## Author\n",
    "Sandra Djurdjevic"
   ]
  },
  {
   "cell_type": "code",
   "execution_count": null,
   "id": "f8ba24de-83ac-4a73-94e8-3b1ba9cafd1c",
   "metadata": {},
   "outputs": [],
   "source": []
  }
 ],
 "metadata": {
  "kernelspec": {
   "display_name": "Python [conda env:base] *",
   "language": "python",
   "name": "conda-base-py"
  },
  "language_info": {
   "codemirror_mode": {
    "name": "ipython",
    "version": 3
   },
   "file_extension": ".py",
   "mimetype": "text/x-python",
   "name": "python",
   "nbconvert_exporter": "python",
   "pygments_lexer": "ipython3",
   "version": "3.12.7"
  }
 },
 "nbformat": 4,
 "nbformat_minor": 5
}
